{
 "cells": [
  {
   "cell_type": "markdown",
   "metadata": {},
   "source": [
    "# Comienzo"
   ]
  },
  {
   "cell_type": "markdown",
   "metadata": {},
   "source": [
    "Para poder comenzar ya debiste de haber descargado la libreria requests, si aun no lo has hecho aqui te dejo en enlace de la libreria:[request](https://pypi.org/project/requests/) recuerda \"pip install requests\""
   ]
  },
  {
   "cell_type": "markdown",
   "metadata": {},
   "source": [
    "En la imagen de abajo observamos como se ve la pagina de la API, nos dice que es lo que nos devolvera, que en este caso son las horas de puesta y salida del sol para una latitud y longitud determinadas, las solicitudes las debemos de hacer a: https://api.sunrise-sunset.org/json.\n",
    "\n",
    "Mas abajo viene un apartado de parametros, son 5 en total de los cuales 2 de ellos son obligatorios (la latitud y la longitud) los parametros restantes son opcionales que tienen que ver con otras cosas que por ahora no nos son interesantes."
   ]
  },
  {
   "cell_type": "markdown",
   "metadata": {},
   "source": [
    "\n",
    "<img src=\"imagenes/web-sunset.png\">\n"
   ]
  },
  {
   "cell_type": "markdown",
   "metadata": {},
   "source": [
    "En la siguientes imagenes podemos ver como la misma pagina nos da un ejemplo de lo que seria la peticion y la respuesta"
   ]
  },
  {
   "cell_type": "markdown",
   "metadata": {},
   "source": [
    "<img src=\"imagenes/requests.png\">"
   ]
  },
  {
   "cell_type": "markdown",
   "metadata": {},
   "source": [
    "<img src=\"imagenes/response.png\">"
   ]
  },
  {
   "cell_type": "code",
   "execution_count": 8,
   "metadata": {},
   "outputs": [
    {
     "name": "stdout",
     "output_type": "stream",
     "text": [
      "200\n"
     ]
    }
   ],
   "source": [
    "# 1- importamos la libreria\n",
    "import requests\n",
    "\n",
    "# 2- creamos una variable y como valor le damos la direccion de la api\n",
    "url = \"https://api.sunrise-sunset.org/json\"\n",
    "\n",
    "# 3- creamos una variable llamada response y hacemos uso de la libreria requests con su metodo get que es para hacer peticiones\n",
    "# como unico argumento pasamos la url\n",
    "response = requests.get(url=url)\n",
    "\n",
    "# 4- Esto nos devuelve el codigo del estado de la respuesta, recuerda que si es un numero 200 esta perfecto\n",
    "print(response.status_code)"
   ]
  },
  {
   "cell_type": "markdown",
   "metadata": {},
   "source": [
    "Anteriormente en la documetacion de la API vimos que se necesitaban dos parametros obligatorios, aun asi nos a devuelto un codigo de respuesta satisfactorio, parece ser que no eran tan obligatorios pero bueno veamos que nos devolvio"
   ]
  },
  {
   "cell_type": "code",
   "execution_count": 11,
   "metadata": {},
   "outputs": [
    {
     "data": {
      "text/plain": [
       "{'results': {'sunrise': '5:59:37 AM',\n",
       "  'sunset': '6:08:38 PM',\n",
       "  'solar_noon': '12:04:08 PM',\n",
       "  'day_length': '12:09:01',\n",
       "  'civil_twilight_begin': '5:39:27 AM',\n",
       "  'civil_twilight_end': '6:28:48 PM',\n",
       "  'nautical_twilight_begin': '5:14:46 AM',\n",
       "  'nautical_twilight_end': '6:53:30 PM',\n",
       "  'astronomical_twilight_begin': '4:50:02 AM',\n",
       "  'astronomical_twilight_end': '7:18:13 PM'},\n",
       " 'status': 'OK'}"
      ]
     },
     "execution_count": 11,
     "metadata": {},
     "output_type": "execute_result"
    }
   ],
   "source": [
    "# creamos una variable para guardar la informacion en formato json\n",
    "data = response.json()\n",
    "data\n"
   ]
  },
  {
   "cell_type": "code",
   "execution_count": 13,
   "metadata": {},
   "outputs": [
    {
     "name": "stdout",
     "output_type": "stream",
     "text": [
      "5:59:37 AM 6:08:38 PM\n"
     ]
    }
   ],
   "source": [
    "amanecer = data[\"results\"][\"sunrise\"]\n",
    "puesta = data[\"results\"][\"sunset\"]\n",
    "\n",
    "print(amanecer, puesta)"
   ]
  },
  {
   "cell_type": "markdown",
   "metadata": {},
   "source": [
    "Al parecer nos esta devolviendo informacion pero no sabemos de donde, nosotros no hemos especificado la latitud y la longitud del lugar del cual queremos saber a que hora sale y se pone el sol.\n",
    "\n",
    "Para nosotros poder hacer eso vamos a ir al siguiente pagina: https://www.latlong.net/Show-Latitude-Longitude.html en la cual podremos obtener la latitud y la longitud de cualquier lugar, es muy facil solo has click en el mapa para que te mueste cual es el valor de la longitud y de la latitud."
   ]
  },
  {
   "cell_type": "code",
   "execution_count": 16,
   "metadata": {},
   "outputs": [
    {
     "data": {
      "text/plain": [
       "{'results': {'sunrise': '12:16:43 PM',\n",
       "  'sunset': '1:04:37 AM',\n",
       "  'solar_noon': '6:40:40 PM',\n",
       "  'day_length': '12:47:54',\n",
       "  'civil_twilight_begin': '11:55:08 AM',\n",
       "  'civil_twilight_end': '1:26:12 AM',\n",
       "  'nautical_twilight_begin': '11:28:25 AM',\n",
       "  'nautical_twilight_end': '1:52:54 AM',\n",
       "  'astronomical_twilight_begin': '11:01:17 AM',\n",
       "  'astronomical_twilight_end': '2:20:03 AM'},\n",
       " 'status': 'OK'}"
      ]
     },
     "execution_count": 16,
     "metadata": {},
     "output_type": "execute_result"
    }
   ],
   "source": [
    "# Guardamos los valores en variables\n",
    "latitud = 19.424648\n",
    "longitud = -99.148178\n",
    "\n",
    "# Para agregar estos valores a la peticion podemos hacerlo de dos formas\n",
    "# La primera es hacer uso del argumento params y pasar en forma de diccionario los valores de la latitud y la longitud,\n",
    "# los nombres de las claves que yo he puesto son los que vienen en la documentacion.\n",
    "\n",
    "data = requests.get(url=url, params={\"lat\":latitud,\"lng\":longitud})\n",
    "data.json()"
   ]
  },
  {
   "cell_type": "code",
   "execution_count": 20,
   "metadata": {},
   "outputs": [
    {
     "data": {
      "text/plain": [
       "{'results': {'sunrise': '12:16:43 PM',\n",
       "  'sunset': '1:04:37 AM',\n",
       "  'solar_noon': '6:40:40 PM',\n",
       "  'day_length': '12:47:54',\n",
       "  'civil_twilight_begin': '11:55:08 AM',\n",
       "  'civil_twilight_end': '1:26:12 AM',\n",
       "  'nautical_twilight_begin': '11:28:25 AM',\n",
       "  'nautical_twilight_end': '1:52:54 AM',\n",
       "  'astronomical_twilight_begin': '11:01:17 AM',\n",
       "  'astronomical_twilight_end': '2:20:03 AM'},\n",
       " 'status': 'OK'}"
      ]
     },
     "execution_count": 20,
     "metadata": {},
     "output_type": "execute_result"
    }
   ],
   "source": [
    "# Segunda forma\n",
    "# Ponemos la informacion directamente en la url, como en el ejemplo que nos da la misma documentacion\n",
    "# 1- Despues de la palabra json colocamos un signo de pregunta ?\n",
    "# 2- Colocamos el nombre del parametro el signo = y el valor del parametro\n",
    "# 3- Para agregar otro parametro al final del parametro anterior colocamos el signo & y hacemos lo mismo que antes\n",
    "url = \"https://api.sunrise-sunset.org/json?lat=19.424648&lng=-99.148178\"\n",
    "\n",
    "data = requests.get(url=url)\n",
    "data.json()"
   ]
  }
 ],
 "metadata": {
  "kernelspec": {
   "display_name": "Python 3",
   "language": "python",
   "name": "python3"
  },
  "language_info": {
   "codemirror_mode": {
    "name": "ipython",
    "version": 3
   },
   "file_extension": ".py",
   "mimetype": "text/x-python",
   "name": "python",
   "nbconvert_exporter": "python",
   "pygments_lexer": "ipython3",
   "version": "3.10.5"
  },
  "orig_nbformat": 4
 },
 "nbformat": 4,
 "nbformat_minor": 2
}
