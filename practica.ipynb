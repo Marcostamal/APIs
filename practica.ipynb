{
 "cells": [
  {
   "cell_type": "markdown",
   "metadata": {},
   "source": [
    "# Comienzo"
   ]
  },
  {
   "cell_type": "markdown",
   "metadata": {},
   "source": [
    "Para poder comenzar ya debiste de haber descargado la libreria requests, si aun no lo has hecho aqui te dejo en enlace de la libreria:[request](https://pypi.org/project/requests/) recuerda \"pip install requests\""
   ]
  },
  {
   "cell_type": "markdown",
   "metadata": {},
   "source": [
    "En la imagen de abajo observamos como se ve la pagina de la API, nos dice que es lo que nos devolvera, que en este caso son las horas de puesta y salida del sol para una latitud y longitud determinadas, las solicitudes las debemos de hacer a: https://api.sunrise-sunset.org/json.\n",
    "\n",
    "Mas abajo viene un apartado de parametros, son 5 en total de los cuales 2 de ellos son obligatorios (la latitud y la longitud) los parametros restantes son opcionales que tienen que ver con otras cosas que por ahora no nos son interesantes."
   ]
  },
  {
   "cell_type": "markdown",
   "metadata": {},
   "source": [
    "\n",
    "<img src=\"imagenes/web-sunset.png\">\n"
   ]
  },
  {
   "cell_type": "markdown",
   "metadata": {},
   "source": [
    "En la siguientes imagenes podemos ver como la misma pagina nos da un ejemplo de lo que seria la peticion y la respuesta"
   ]
  },
  {
   "cell_type": "markdown",
   "metadata": {},
   "source": [
    "<img src=\"imagenes/requests.png\">"
   ]
  },
  {
   "cell_type": "markdown",
   "metadata": {},
   "source": [
    "<img src=\"imagenes/response.png\">"
   ]
  }
 ],
 "metadata": {
  "kernelspec": {
   "display_name": "Python 3",
   "language": "python",
   "name": "python3"
  },
  "language_info": {
   "codemirror_mode": {
    "name": "ipython",
    "version": 3
   },
   "file_extension": ".py",
   "mimetype": "text/x-python",
   "name": "python",
   "nbconvert_exporter": "python",
   "pygments_lexer": "ipython3",
   "version": "3.10.5"
  },
  "orig_nbformat": 4
 },
 "nbformat": 4,
 "nbformat_minor": 2
}
